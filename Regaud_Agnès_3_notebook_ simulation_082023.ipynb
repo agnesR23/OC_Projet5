{
 "cells": [
  {
   "cell_type": "markdown",
   "id": "b6383496",
   "metadata": {},
   "source": [
    "# Projet 5 Openclassrooms parcours Data Scientist\n",
    "## Etudiante : Regaud Agnès\n",
    "\n",
    "\n",
    "## 3ème notebook : simulation pour déterminer la fréquence nécessaire de mise à jour du modèle de segmentation."
   ]
  },
  {
   "cell_type": "code",
   "execution_count": 1,
   "id": "26d6ea59",
   "metadata": {},
   "outputs": [],
   "source": [
    "package_list = ['pandas', 'numpy', 'matplotlib', 'scikit-learn']"
   ]
  },
  {
   "cell_type": "code",
   "execution_count": 2,
   "id": "cf706275",
   "metadata": {},
   "outputs": [
    {
     "name": "stdout",
     "output_type": "stream",
     "text": [
      "Python 3.9.13\r\n"
     ]
    }
   ],
   "source": [
    "!python3 -V"
   ]
  },
  {
   "cell_type": "code",
   "execution_count": 3,
   "id": "097198fc",
   "metadata": {},
   "outputs": [
    {
     "data": {
      "text/plain": [
       "['matplotlib @ file:///private/var/folders/sy/f16zz6x50xz3113nwtb9bvq00000gp/T/abs_757ijfo2tl/croots/recipe/matplotlib-suite_1660167932741/work',\n",
       " 'matplotlib-inline @ file:///private/var/folders/sy/f16zz6x50xz3113nwtb9bvq00000gp/T/abs_9ddl71oqte/croots/recipe/matplotlib-inline_1662014471815/work',\n",
       " 'numpy @ file:///private/var/folders/sy/f16zz6x50xz3113nwtb9bvq00000gp/T/abs_10c245a1-1c81-453c-8b70-3e944787a8d9mo1xhesu/croots/recipe/numpy_and_numpy_base_1653915529188/work',\n",
       " 'numpydoc @ file:///private/var/folders/sy/f16zz6x50xz3113nwtb9bvq00000gp/T/abs_753dae38-7ca3-4e28-bd02-7f92dc5dac540wd4kft3/croots/recipe/numpydoc_1657529877062/work',\n",
       " 'pandas==1.4.4',\n",
       " 'scikit-learn @ file:///opt/concourse/worker/volumes/live/cffa5efe-beec-4a37-5774-350794e43990/volume/scikit-learn_1642617139916/work',\n",
       " 'scikit-learn-intelex==2021.20221004.121333']"
      ]
     },
     "execution_count": 3,
     "metadata": {},
     "output_type": "execute_result"
    }
   ],
   "source": [
    "txt = !python3 -m pip freeze\n",
    "check = lambda i : any([(pack in i) for pack in package_list])\n",
    "txt = [i for i in txt if check (i)]\n",
    "txt"
   ]
  },
  {
   "cell_type": "markdown",
   "id": "74cb1c52",
   "metadata": {},
   "source": [
    "# 1. Imports"
   ]
  },
  {
   "cell_type": "code",
   "execution_count": 4,
   "id": "8bbdbdcb",
   "metadata": {},
   "outputs": [
    {
     "name": "stdout",
     "output_type": "stream",
     "text": [
      "Requirement already satisfied: yellowbrick in /opt/anaconda3/lib/python3.9/site-packages (1.5)\n",
      "Requirement already satisfied: cycler>=0.10.0 in /opt/anaconda3/lib/python3.9/site-packages (from yellowbrick) (0.11.0)\n",
      "Requirement already satisfied: scikit-learn>=1.0.0 in /opt/anaconda3/lib/python3.9/site-packages (from yellowbrick) (1.0.2)\n",
      "Requirement already satisfied: scipy>=1.0.0 in /opt/anaconda3/lib/python3.9/site-packages (from yellowbrick) (1.9.1)\n",
      "Requirement already satisfied: matplotlib!=3.0.0,>=2.0.2 in /opt/anaconda3/lib/python3.9/site-packages (from yellowbrick) (3.5.2)\n",
      "Requirement already satisfied: numpy>=1.16.0 in /opt/anaconda3/lib/python3.9/site-packages (from yellowbrick) (1.21.5)\n",
      "Requirement already satisfied: pillow>=6.2.0 in /opt/anaconda3/lib/python3.9/site-packages (from matplotlib!=3.0.0,>=2.0.2->yellowbrick) (9.2.0)\n",
      "Requirement already satisfied: python-dateutil>=2.7 in /opt/anaconda3/lib/python3.9/site-packages (from matplotlib!=3.0.0,>=2.0.2->yellowbrick) (2.8.2)\n",
      "Requirement already satisfied: fonttools>=4.22.0 in /opt/anaconda3/lib/python3.9/site-packages (from matplotlib!=3.0.0,>=2.0.2->yellowbrick) (4.25.0)\n",
      "Requirement already satisfied: packaging>=20.0 in /opt/anaconda3/lib/python3.9/site-packages (from matplotlib!=3.0.0,>=2.0.2->yellowbrick) (21.3)\n",
      "Requirement already satisfied: kiwisolver>=1.0.1 in /opt/anaconda3/lib/python3.9/site-packages (from matplotlib!=3.0.0,>=2.0.2->yellowbrick) (1.4.2)\n",
      "Requirement already satisfied: pyparsing>=2.2.1 in /opt/anaconda3/lib/python3.9/site-packages (from matplotlib!=3.0.0,>=2.0.2->yellowbrick) (3.0.9)\n",
      "Requirement already satisfied: threadpoolctl>=2.0.0 in /opt/anaconda3/lib/python3.9/site-packages (from scikit-learn>=1.0.0->yellowbrick) (2.2.0)\n",
      "Requirement already satisfied: joblib>=0.11 in /opt/anaconda3/lib/python3.9/site-packages (from scikit-learn>=1.0.0->yellowbrick) (1.1.0)\n",
      "Requirement already satisfied: six>=1.5 in /opt/anaconda3/lib/python3.9/site-packages (from python-dateutil>=2.7->matplotlib!=3.0.0,>=2.0.2->yellowbrick) (1.16.0)\n"
     ]
    }
   ],
   "source": [
    "#builtin\n",
    "import os\n",
    "\n",
    "#data\n",
    "import pandas as pd\n",
    "import numpy as np\n",
    "\n",
    "#time\n",
    "from datetime import datetime\n",
    "from datetime import timedelta\n",
    "\n",
    "#preprocessing\n",
    "from sklearn.preprocessing import StandardScaler\n",
    "\n",
    "from scipy import stats\n",
    "\n",
    "#Clustering\n",
    "from sklearn.cluster import KMeans\n",
    "!pip install yellowbrick\n",
    "from sklearn.metrics import silhouette_score\n",
    "from sklearn import metrics\n",
    "from sklearn.cluster import DBSCAN\n",
    "from yellowbrick.cluster import SilhouetteVisualizer\n",
    "\n",
    "\n",
    "from sklearn.metrics.cluster import adjusted_rand_score\n",
    "\n",
    "\n",
    "#visualisation\n",
    "import matplotlib.pyplot as plt\n",
    "import seaborn as sns"
   ]
  },
  {
   "cell_type": "markdown",
   "id": "3fab75c0",
   "metadata": {},
   "source": [
    "# 2. Data"
   ]
  },
  {
   "cell_type": "code",
   "execution_count": 5,
   "id": "a5563a0b",
   "metadata": {},
   "outputs": [],
   "source": [
    "path = \"./data/Cleaned/\"\n",
    "filename = 'df_cleaned.csv'\n",
    "df = pd.read_csv(path + filename)"
   ]
  },
  {
   "cell_type": "code",
   "execution_count": 6,
   "id": "568b771c",
   "metadata": {},
   "outputs": [
    {
     "data": {
      "text/html": [
       "<div>\n",
       "<style scoped>\n",
       "    .dataframe tbody tr th:only-of-type {\n",
       "        vertical-align: middle;\n",
       "    }\n",
       "\n",
       "    .dataframe tbody tr th {\n",
       "        vertical-align: top;\n",
       "    }\n",
       "\n",
       "    .dataframe thead th {\n",
       "        text-align: right;\n",
       "    }\n",
       "</style>\n",
       "<table border=\"1\" class=\"dataframe\">\n",
       "  <thead>\n",
       "    <tr style=\"text-align: right;\">\n",
       "      <th></th>\n",
       "      <th>customer_unique_id</th>\n",
       "      <th>customer_id</th>\n",
       "      <th>order_purchase_timestamp</th>\n",
       "      <th>order_id</th>\n",
       "      <th>payment_value_agreg</th>\n",
       "      <th>review_score</th>\n",
       "    </tr>\n",
       "  </thead>\n",
       "  <tbody>\n",
       "    <tr>\n",
       "      <th>0</th>\n",
       "      <td>861eff4711a542e4b93843c6dd7febb0</td>\n",
       "      <td>06b8999e2fba1a1fbc88172c00ba8bc7</td>\n",
       "      <td>2017-05-16 15:05:35</td>\n",
       "      <td>00e7ee1b050b8499577073aeb2a297a1</td>\n",
       "      <td>146.87</td>\n",
       "      <td>4.0</td>\n",
       "    </tr>\n",
       "    <tr>\n",
       "      <th>1</th>\n",
       "      <td>290c77bc529b7ac935b93aa66c333dc3</td>\n",
       "      <td>18955e83d337fd6b2def6b18a428ac77</td>\n",
       "      <td>2018-01-12 20:48:24</td>\n",
       "      <td>29150127e6685892b6eab3eec79f59c7</td>\n",
       "      <td>335.48</td>\n",
       "      <td>5.0</td>\n",
       "    </tr>\n",
       "    <tr>\n",
       "      <th>2</th>\n",
       "      <td>060e732b5b29e8181a18229c7b0b2b5e</td>\n",
       "      <td>4e7b3e00288586ebd08712fdd0374a03</td>\n",
       "      <td>2018-05-19 16:07:45</td>\n",
       "      <td>b2059ed67ce144a36e2aa97d2c9e9ad2</td>\n",
       "      <td>157.73</td>\n",
       "      <td>5.0</td>\n",
       "    </tr>\n",
       "    <tr>\n",
       "      <th>3</th>\n",
       "      <td>259dac757896d24d7702b9acbbff3f3c</td>\n",
       "      <td>b2b6027bc5c5109e529d4dc6358b12c3</td>\n",
       "      <td>2018-03-13 16:06:38</td>\n",
       "      <td>951670f92359f4fe4a63112aa7306eba</td>\n",
       "      <td>173.30</td>\n",
       "      <td>5.0</td>\n",
       "    </tr>\n",
       "    <tr>\n",
       "      <th>4</th>\n",
       "      <td>345ecd01c38d18a9036ed96c73b8d066</td>\n",
       "      <td>4f2d8ab171c80ec8364f7c12e35b23ad</td>\n",
       "      <td>2018-07-29 09:51:30</td>\n",
       "      <td>6b7d50bd145f6fc7f33cebabd7e49d0f</td>\n",
       "      <td>252.25</td>\n",
       "      <td>5.0</td>\n",
       "    </tr>\n",
       "  </tbody>\n",
       "</table>\n",
       "</div>"
      ],
      "text/plain": [
       "                 customer_unique_id                       customer_id  \\\n",
       "0  861eff4711a542e4b93843c6dd7febb0  06b8999e2fba1a1fbc88172c00ba8bc7   \n",
       "1  290c77bc529b7ac935b93aa66c333dc3  18955e83d337fd6b2def6b18a428ac77   \n",
       "2  060e732b5b29e8181a18229c7b0b2b5e  4e7b3e00288586ebd08712fdd0374a03   \n",
       "3  259dac757896d24d7702b9acbbff3f3c  b2b6027bc5c5109e529d4dc6358b12c3   \n",
       "4  345ecd01c38d18a9036ed96c73b8d066  4f2d8ab171c80ec8364f7c12e35b23ad   \n",
       "\n",
       "  order_purchase_timestamp                          order_id  \\\n",
       "0      2017-05-16 15:05:35  00e7ee1b050b8499577073aeb2a297a1   \n",
       "1      2018-01-12 20:48:24  29150127e6685892b6eab3eec79f59c7   \n",
       "2      2018-05-19 16:07:45  b2059ed67ce144a36e2aa97d2c9e9ad2   \n",
       "3      2018-03-13 16:06:38  951670f92359f4fe4a63112aa7306eba   \n",
       "4      2018-07-29 09:51:30  6b7d50bd145f6fc7f33cebabd7e49d0f   \n",
       "\n",
       "   payment_value_agreg  review_score  \n",
       "0               146.87           4.0  \n",
       "1               335.48           5.0  \n",
       "2               157.73           5.0  \n",
       "3               173.30           5.0  \n",
       "4               252.25           5.0  "
      ]
     },
     "execution_count": 6,
     "metadata": {},
     "output_type": "execute_result"
    }
   ],
   "source": [
    "df.head()"
   ]
  },
  {
   "cell_type": "code",
   "execution_count": 7,
   "id": "b3447f94",
   "metadata": {},
   "outputs": [
    {
     "data": {
      "text/plain": [
       "(99440, 6)"
      ]
     },
     "execution_count": 7,
     "metadata": {},
     "output_type": "execute_result"
    }
   ],
   "source": [
    "df.shape"
   ]
  },
  {
   "cell_type": "code",
   "execution_count": 8,
   "id": "5d0218de",
   "metadata": {},
   "outputs": [
    {
     "data": {
      "text/plain": [
       "customer_unique_id          0\n",
       "customer_id                 0\n",
       "order_purchase_timestamp    0\n",
       "order_id                    0\n",
       "payment_value_agreg         0\n",
       "review_score                0\n",
       "dtype: int64"
      ]
     },
     "execution_count": 8,
     "metadata": {},
     "output_type": "execute_result"
    }
   ],
   "source": [
    "df.isnull().sum()"
   ]
  },
  {
   "cell_type": "code",
   "execution_count": 9,
   "id": "9335f7b8",
   "metadata": {},
   "outputs": [],
   "source": [
    "df['order_purchase_timestamp'] = pd.to_datetime(df['order_purchase_timestamp'])\n"
   ]
  },
  {
   "cell_type": "code",
   "execution_count": 10,
   "id": "875f2dbf",
   "metadata": {},
   "outputs": [
    {
     "data": {
      "text/plain": [
       "Timestamp('2018-10-17 17:30:18')"
      ]
     },
     "execution_count": 10,
     "metadata": {},
     "output_type": "execute_result"
    }
   ],
   "source": [
    "#Date de commande la plus récente :\n",
    "date_fin_commandes = df['order_purchase_timestamp'].max()\n",
    "date_fin_commandes"
   ]
  },
  {
   "cell_type": "code",
   "execution_count": 11,
   "id": "923651ff",
   "metadata": {},
   "outputs": [
    {
     "data": {
      "text/plain": [
       "Timestamp('2016-09-04 21:15:19')"
      ]
     },
     "execution_count": 11,
     "metadata": {},
     "output_type": "execute_result"
    }
   ],
   "source": [
    "#Date de commande la plus vieille :\n",
    "date_debut_commandes = df['order_purchase_timestamp'].min()\n",
    "date_debut_commandes"
   ]
  },
  {
   "cell_type": "code",
   "execution_count": 12,
   "id": "392ce6e3",
   "metadata": {},
   "outputs": [
    {
     "data": {
      "text/plain": [
       "Timedelta('772 days 20:14:59')"
      ]
     },
     "execution_count": 12,
     "metadata": {},
     "output_type": "execute_result"
    }
   ],
   "source": [
    "#Durée des commande du dataset :\n",
    "\n",
    "\n",
    "duree = df['order_purchase_timestamp'].max() - df['order_purchase_timestamp'].min()\n",
    "duree"
   ]
  },
  {
   "cell_type": "code",
   "execution_count": 13,
   "id": "d4b10fcc",
   "metadata": {},
   "outputs": [
    {
     "data": {
      "text/html": [
       "<div>\n",
       "<style scoped>\n",
       "    .dataframe tbody tr th:only-of-type {\n",
       "        vertical-align: middle;\n",
       "    }\n",
       "\n",
       "    .dataframe tbody tr th {\n",
       "        vertical-align: top;\n",
       "    }\n",
       "\n",
       "    .dataframe thead th {\n",
       "        text-align: right;\n",
       "    }\n",
       "</style>\n",
       "<table border=\"1\" class=\"dataframe\">\n",
       "  <thead>\n",
       "    <tr style=\"text-align: right;\">\n",
       "      <th></th>\n",
       "      <th>customer_unique_id</th>\n",
       "      <th>customer_id</th>\n",
       "      <th>order_purchase_timestamp</th>\n",
       "      <th>order_id</th>\n",
       "      <th>payment_value_agreg</th>\n",
       "      <th>review_score</th>\n",
       "    </tr>\n",
       "  </thead>\n",
       "  <tbody>\n",
       "    <tr>\n",
       "      <th>84696</th>\n",
       "      <td>b7d76e111c89f7ebf14761390f0f7d17</td>\n",
       "      <td>08c5351a6aca1c1589a38f244edeee9d</td>\n",
       "      <td>2016-09-04 21:15:19</td>\n",
       "      <td>2e7a8482f6fb09756ca50c10d7bfc047</td>\n",
       "      <td>136.23</td>\n",
       "      <td>1.0</td>\n",
       "    </tr>\n",
       "    <tr>\n",
       "      <th>70560</th>\n",
       "      <td>4854e9b3feff728c13ee5fc7d1547e92</td>\n",
       "      <td>683c54fc24d40ee9f8a6fc179fd9856c</td>\n",
       "      <td>2016-09-05 00:15:34</td>\n",
       "      <td>e5fa5a7210941f7d56d0208e4e071d35</td>\n",
       "      <td>75.06</td>\n",
       "      <td>1.0</td>\n",
       "    </tr>\n",
       "    <tr>\n",
       "      <th>84844</th>\n",
       "      <td>009b0127b727ab0ba422f6d9604487c7</td>\n",
       "      <td>622e13439d6b5a0b486c435618b2679e</td>\n",
       "      <td>2016-09-13 15:24:19</td>\n",
       "      <td>809a282bbd5dbcabb6f2f724fca862ec</td>\n",
       "      <td>40.95</td>\n",
       "      <td>1.0</td>\n",
       "    </tr>\n",
       "    <tr>\n",
       "      <th>90293</th>\n",
       "      <td>0eb1ee9dba87f5b36b4613a65074337c</td>\n",
       "      <td>b106b360fe2ef8849fbbd056f777b4d5</td>\n",
       "      <td>2016-10-02 22:07:52</td>\n",
       "      <td>71303d7e93b399f5bcd537d124c0bcfa</td>\n",
       "      <td>109.34</td>\n",
       "      <td>1.0</td>\n",
       "    </tr>\n",
       "    <tr>\n",
       "      <th>38633</th>\n",
       "      <td>32ea3bdedab835c3aa6cb68ce66565ef</td>\n",
       "      <td>355077684019f7f60a031656bd7262b8</td>\n",
       "      <td>2016-10-03 09:44:50</td>\n",
       "      <td>3b697a20d9e427646d92567910af6d57</td>\n",
       "      <td>45.46</td>\n",
       "      <td>4.0</td>\n",
       "    </tr>\n",
       "  </tbody>\n",
       "</table>\n",
       "</div>"
      ],
      "text/plain": [
       "                     customer_unique_id                       customer_id  \\\n",
       "84696  b7d76e111c89f7ebf14761390f0f7d17  08c5351a6aca1c1589a38f244edeee9d   \n",
       "70560  4854e9b3feff728c13ee5fc7d1547e92  683c54fc24d40ee9f8a6fc179fd9856c   \n",
       "84844  009b0127b727ab0ba422f6d9604487c7  622e13439d6b5a0b486c435618b2679e   \n",
       "90293  0eb1ee9dba87f5b36b4613a65074337c  b106b360fe2ef8849fbbd056f777b4d5   \n",
       "38633  32ea3bdedab835c3aa6cb68ce66565ef  355077684019f7f60a031656bd7262b8   \n",
       "\n",
       "      order_purchase_timestamp                          order_id  \\\n",
       "84696      2016-09-04 21:15:19  2e7a8482f6fb09756ca50c10d7bfc047   \n",
       "70560      2016-09-05 00:15:34  e5fa5a7210941f7d56d0208e4e071d35   \n",
       "84844      2016-09-13 15:24:19  809a282bbd5dbcabb6f2f724fca862ec   \n",
       "90293      2016-10-02 22:07:52  71303d7e93b399f5bcd537d124c0bcfa   \n",
       "38633      2016-10-03 09:44:50  3b697a20d9e427646d92567910af6d57   \n",
       "\n",
       "       payment_value_agreg  review_score  \n",
       "84696               136.23           1.0  \n",
       "70560                75.06           1.0  \n",
       "84844                40.95           1.0  \n",
       "90293               109.34           1.0  \n",
       "38633                45.46           4.0  "
      ]
     },
     "execution_count": 13,
     "metadata": {},
     "output_type": "execute_result"
    }
   ],
   "source": [
    "#Rangement du dataset par ordre chronologique de commande :\n",
    "df = df.sort_values(by = 'order_purchase_timestamp')\n",
    "df.head()"
   ]
  },
  {
   "cell_type": "markdown",
   "id": "c41d95c4",
   "metadata": {},
   "source": [
    "# 3. Modèle de segmentation des clients"
   ]
  },
  {
   "cell_type": "code",
   "execution_count": 14,
   "id": "52e12135",
   "metadata": {},
   "outputs": [],
   "source": [
    "#Calcul de la récence (la colonne de dates doit être au format date):\n",
    "def recence(df) :\n",
    "    #Calcul de la date de la dernière commande par client :\n",
    "    df_recence = df.sort_values('order_purchase_timestamp', ascending=False).drop_duplicates(['customer_unique_id'])\n",
    "    df_recence = df_recence[['customer_unique_id', 'order_purchase_timestamp']]\n",
    "    df_recence.rename(columns={ 'order_purchase_timestamp': 'last_order_purchase_timestamp' }, inplace = True)\n",
    "    #Calcul de la date la plus récente parmi toutes les commandes de df_recence:\n",
    "    recent_date = df_recence['last_order_purchase_timestamp'].max()\n",
    "    #Calcul de la récence :\n",
    "    df_recence['Recency'] = df_recence['last_order_purchase_timestamp'].apply(lambda x: (recent_date - x).days)\n",
    "    df_recence = df_recence[['customer_unique_id', 'Recency']]\n",
    "    return df_recence\n"
   ]
  },
  {
   "cell_type": "code",
   "execution_count": 15,
   "id": "fab79613",
   "metadata": {},
   "outputs": [],
   "source": [
    "#Calcul de la fréquence :\n",
    "def frequence(df) :\n",
    "    #Compte du nombre de dates de commande pour chaque client (c'est aussi le nombre de commandes par client)\n",
    "    df_frequence = df.groupby(by=['customer_unique_id'],\n",
    "                          as_index=False)['order_purchase_timestamp'].count()\n",
    "    df_frequence.columns = ['customer_unique_id', 'Frequency']\n",
    "    return df_frequence"
   ]
  },
  {
   "cell_type": "code",
   "execution_count": 16,
   "id": "294ad7c7",
   "metadata": {},
   "outputs": [],
   "source": [
    "#Calcul du montant par client :\n",
    "def montant(df) :\n",
    "    df_montant = df.groupby(by='customer_unique_id',\n",
    "                        as_index=False)['payment_value_agreg'].sum()\n",
    "    df_montant.columns = ['customer_unique_id', 'Monetary']\n",
    "    return df_montant"
   ]
  },
  {
   "cell_type": "code",
   "execution_count": 17,
   "id": "a8dbc7a3",
   "metadata": {},
   "outputs": [],
   "source": [
    "#Tableau RFM avec rang du client sur 100 :\n",
    "def tableau_rfm(df) :\n",
    "    df_recence = recence(df)\n",
    "    df_frequence = frequence(df)\n",
    "    df_montant = montant(df)\n",
    "    df_rf = pd.merge(df_recence, df_frequence, on='customer_unique_id')\n",
    "    df_rfm = pd.merge(df_rf, df_montant, on='customer_unique_id')\n",
    "    #Calcul du rang pour chaque résultat :\n",
    "    df_rfm_rank = df_rfm.copy()\n",
    "    df_rfm_rank['R_rank'] = df_rfm_rank['Recency'].rank(ascending=False)\n",
    "    df_rfm_rank['F_rank'] = df_rfm_rank['Frequency'].rank(ascending=True)\n",
    "    df_rfm_rank['M_rank'] = df_rfm_rank['Monetary'].rank(ascending=True)\n",
    "     \n",
    "    # normalizing the rank of the customers (pourcentages)\n",
    "    df_rfm_rank['R_rank_norm'] = (df_rfm_rank['R_rank']/df_rfm_rank['R_rank'].max())*100\n",
    "    df_rfm_rank['F_rank_norm'] = (df_rfm_rank['F_rank']/df_rfm_rank['F_rank'].max())*100\n",
    "    df_rfm_rank['M_rank_norm'] = (df_rfm_rank['M_rank']/df_rfm_rank['M_rank'].max())*100\n",
    "     \n",
    "    df_rfm_rank = df_rfm_rank.drop(columns=['R_rank', 'F_rank', 'M_rank'])\n",
    "     \n",
    "    return df_rfm_rank"
   ]
  },
  {
   "cell_type": "code",
   "execution_count": 18,
   "id": "901de01e",
   "metadata": {},
   "outputs": [],
   "source": [
    "#Ajout de l'avis moyen par client au tableau RFM :\n",
    "def tableau_rfm_review(df) :\n",
    "    df_rfm_rank = tableau_rfm(df)\n",
    "    \n",
    "    df_review_agreg = df.groupby(by='customer_unique_id',\n",
    "                        as_index=False)['review_score'].mean().round(0)\n",
    "    df_review_agreg.columns = ['customer_unique_id', 'avis moyen du client']\n",
    "    df_rfm_review = pd.merge(df_rfm_rank, df_review_agreg, on='customer_unique_id')\n",
    "    return df_rfm_review\n",
    "\n"
   ]
  },
  {
   "cell_type": "code",
   "execution_count": 19,
   "id": "047e422a",
   "metadata": {},
   "outputs": [],
   "source": [
    "#Partition des clients après standardisation des données :\n",
    "def scaling(df_rfm_review) :\n",
    "    scaler = StandardScaler()\n",
    "    df_rfm_review_scaled = scaler.fit_transform(df_rfm_review[['R_rank_norm', 'F_rank_norm', 'M_rank_norm', 'avis moyen du client']])\n",
    "    df_rfm_review_scaled = pd.DataFrame(df_rfm_review_scaled, columns= ['R_rank_norm', 'F_rank_norm', 'M_rank_norm', 'avis moyen du client'])\n",
    "    return df_rfm_review_scaled\n",
    "\n",
    "\n",
    "def partition(df_rfm_review_scaled, df_rfm_review) :\n",
    "    kmeans_5 = KMeans(n_clusters=5, random_state=42)\n",
    "    kmeans_5.fit(df_rfm_review_scaled)\n",
    "    df_rfm_review['cluster_KM_5'] = kmeans_5.labels_\n",
    "    df_rfm_review_clusters = df_rfm_review\n",
    "    return df_rfm_review_clusters\n",
    "\n",
    "def partition_predict(df_rfm_review_scaled, df_predict_rfm_review_scaled, df_predict_rfm_review) :\n",
    "    kmeans_5 = KMeans(n_clusters=5, random_state=42)\n",
    "    kmeans_5.fit(df_rfm_review_scaled)\n",
    "    labels_predict = kmeans_5.predict(df_predict_rfm_review_scaled)\n",
    "    df_predict_rfm_review['labels_predict'] = labels_predict\n",
    "    df_predict_rfm_review_labels = df_predict_rfm_review\n",
    "    return df_predict_rfm_review_labels\n"
   ]
  },
  {
   "cell_type": "code",
   "execution_count": 20,
   "id": "b1ab211f",
   "metadata": {},
   "outputs": [],
   "source": [
    "#Regroupement des étapes : tableau RFM, puis ajout de l'avis moyen, puis standardisation, puis k-means\n",
    "def tableau_labels_predict(df_train, df_predict) :\n",
    "    df_train_rank = tableau_rfm(df_train)\n",
    "    df_train_review = tableau_rfm_review(df_train, df_train_rank)\n",
    "    \n",
    "    df_train_rank = tableau_rfm(df_train)\n",
    "    df_predict_rfm_rank = tableau_rfm(df_predict)\n",
    "    df_train_review = tableau_rfm_review(df_train, df_train_rank)\n",
    "    df_predict_rfm_review = tableau_rfm_review(df_predict,df_predict_rfm_rank)\n",
    "    df_train_review_scaled = scaling(df_train_review)\n",
    "    df_predict_rfm_review_scaled = scaling(df_predict_rfm_review)\n",
    "    df_predict_rfm_review_labels = partition_predict(df_train_review_scaled, df_predict_rfm_review_scaled, df_predict_rfm_review)\n",
    "    return df_predict_rfm_review_labels\n",
    "\n",
    "def tableau_labels_true(df, selection_customers) :\n",
    "    df_rfm_rank = tableau_rfm(df)\n",
    "    df_rfm_review = tableau_rfm_review(df, df_rfm_rank)\n",
    "    df_rfm_review_scaled = scaling(df_rfm_review)\n",
    "    df_rfm_review_clusters = partition(df_rfm_review_scaled, df_rfm_review)\n",
    "    \n",
    "    df_rfm_review_clusters_selection = df_rfm_review_clusters[df_rfm_review_clusters['customer_unique_id'].isin(selection_customers)]\n",
    "    return df_rfm_review_clusters_selection\n",
    "    \n",
    "    \n",
    "def tableau_rfm_review_scaled(df) :\n",
    "    df_rfm_review = tableau_rfm_review(df)\n",
    "    df_rfm_review_scaled = scaling(df_rfm_review)\n",
    "    return df_rfm_review_scaled\n"
   ]
  },
  {
   "cell_type": "markdown",
   "id": "ae42a81a",
   "metadata": {},
   "source": [
    "# 4. Modèle de partition testé par période"
   ]
  },
  {
   "cell_type": "markdown",
   "id": "e16547f9",
   "metadata": {},
   "source": [
    "## On découpe le dataset en 2 parts selon les dates de commande : on entraîne le modèle sur une période allant jusqu'à un temps donné qui varie de 1 semaine à T qui varie avant la fin de la période des commandes :"
   ]
  },
  {
   "cell_type": "code",
   "execution_count": 21,
   "id": "379c93b3",
   "metadata": {},
   "outputs": [
    {
     "data": {
      "text/plain": [
       "Text(0, 0.5, 'ARI_score')"
      ]
     },
     "execution_count": 21,
     "metadata": {},
     "output_type": "execute_result"
    },
    {
     "data": {
      "image/png": "[encoded data removed]",
      "text/plain": [
       "<Figure size 800x550 with 1 Axes>"
      ]
     },
     "metadata": {},
     "output_type": "display_data"
    }
   ],
   "source": [
    "#Calcul de l'ARI sur quelques semaines (1 à 16)\n",
    "df_rfm_review = tableau_rfm_review(df)\n",
    "df_rfm_review_scaled = scaling(df_rfm_review)\n",
    "kmeans_5_entier = KMeans(n_clusters=5, random_state=42)\n",
    "kmeans_5_entier.fit(df_rfm_review_scaled)\n",
    "labels_true = kmeans_5_entier.labels_\n",
    "df_rfm_review['labels_true'] = kmeans_5_entier.labels_\n",
    "\n",
    "\n",
    "\n",
    "\n",
    "ARI=[]\n",
    "#n : nombre de semaines max\n",
    "n = 16\n",
    "for i in range(n) :\n",
    "    duree_entrainement = 772 - (i+1)*7\n",
    "    duree_test = (i+1)*7\n",
    "    date_fin_entrainement = date_debut_commandes + timedelta(duree_entrainement)\n",
    "    #DataFrame entier : df\n",
    "    df_train = df[df['order_purchase_timestamp'] < date_fin_entrainement]\n",
    "    df_predict = df[df['order_purchase_timestamp'] >= date_fin_entrainement]\n",
    "    selection_customers = list(df_predict['customer_unique_id'])\n",
    "    \n",
    "    \n",
    "    df_train_rfm_review_scaled = tableau_rfm_review_scaled(df_train)\n",
    "    kmeans_5_partiel = KMeans(n_clusters=5, random_state=42)\n",
    "    kmeans_5_partiel.fit(df_train_rfm_review_scaled)\n",
    "    labels_predict = kmeans_5_partiel.predict(df_rfm_review_scaled)\n",
    "    df_rfm_review['labels_predict'] = labels_predict\n",
    "\n",
    "    \n",
    "    ARI_score = adjusted_rand_score(labels_predict, labels_true)\n",
    "    ARI.append(ARI_score)\n",
    "\n",
    "plt.plot(range(1, n+1), ARI)\n",
    "plt.xlabel(\"Nombre de semaines\")\n",
    "plt.ylabel(\"ARI_score\")"
   ]
  },
  {
   "cell_type": "code",
   "execution_count": 22,
   "id": "2b76d294",
   "metadata": {},
   "outputs": [
    {
     "data": {
      "text/plain": [
       "Text(0, 0.5, 'ARI_score')"
      ]
     },
     "execution_count": 22,
     "metadata": {},
     "output_type": "execute_result"
    },
    {
     "data": {
      "image/png": "[encoded data removed]",
      "text/plain": [
       "<Figure size 800x550 with 1 Axes>"
      ]
     },
     "metadata": {},
     "output_type": "display_data"
    }
   ],
   "source": [
    "#Calcul de l'ARI sur plusieurs mois (1 à 10)\n",
    "df_rfm_review = tableau_rfm_review(df)\n",
    "df_rfm_review_scaled = scaling(df_rfm_review)\n",
    "kmeans_5_entier = KMeans(n_clusters=5, random_state=42)\n",
    "kmeans_5_entier.fit(df_rfm_review_scaled)\n",
    "labels_true = kmeans_5_entier.labels_\n",
    "df_rfm_review['labels_true'] = kmeans_5_entier.labels_\n",
    "\n",
    "\n",
    "\n",
    "\n",
    "ARI=[]\n",
    "#n : nombre de mois pour évaluer ARI-score\n",
    "\n",
    "list_n = [1,2,3,4,5,6,7,8,9,10]\n",
    "\n",
    "for i in list_n :\n",
    "    duree_entrainement = 772 - i*30\n",
    "    duree_test = i*30\n",
    "    date_fin_entrainement = date_debut_commandes + timedelta(duree_entrainement)\n",
    "    #DataFrame entier : df\n",
    "    df_train = df[df['order_purchase_timestamp'] < date_fin_entrainement]\n",
    "    df_predict = df[df['order_purchase_timestamp'] >= date_fin_entrainement]\n",
    "    \n",
    "    \n",
    "    df_train_rfm_review_scaled = tableau_rfm_review_scaled(df_train)\n",
    "    kmeans_5_partiel = KMeans(n_clusters=5, random_state=42)\n",
    "    kmeans_5_partiel.fit(df_train_rfm_review_scaled)\n",
    "    labels_predict = kmeans_5_partiel.predict(df_rfm_review_scaled)\n",
    "    df_rfm_review['labels_predict'] = labels_predict\n",
    "\n",
    "    \n",
    "    ARI_score = adjusted_rand_score(labels_predict, labels_true)\n",
    "    ARI.append(ARI_score)\n",
    "\n",
    "plt.plot(list_n, ARI)\n",
    "plt.xlabel(\"Nombre de mois\")\n",
    "plt.ylabel(\"ARI_score\")"
   ]
  },
  {
   "cell_type": "markdown",
   "id": "7815ad2c",
   "metadata": {},
   "source": [
    "## On observe une chute à 7 mois qui peut être due à un changement de profil des commandes.\n",
    "## Par exemple des promos sur le site.\n",
    "## Vérifions qu'il ne s'agit pas d'un changement dans le nombre de commande au mois:"
   ]
  },
  {
   "cell_type": "code",
   "execution_count": 23,
   "id": "56eaa922",
   "metadata": {},
   "outputs": [
    {
     "data": {
      "text/plain": [
       "customer_unique_id          7114\n",
       "customer_id                 7210\n",
       "order_purchase_timestamp    7150\n",
       "order_id                    7210\n",
       "payment_value_agreg         4696\n",
       "review_score                   5\n",
       "dtype: int64"
      ]
     },
     "execution_count": 23,
     "metadata": {},
     "output_type": "execute_result"
    }
   ],
   "source": [
    "df_mars = df[('2018-03-01 00:00:00'<df['order_purchase_timestamp']) &  (df['order_purchase_timestamp']< '2018-04-01 00:00:00')]\n",
    "df_mars.nunique()"
   ]
  },
  {
   "cell_type": "code",
   "execution_count": 24,
   "id": "997c0b30",
   "metadata": {},
   "outputs": [
    {
     "data": {
      "text/plain": [
       "customer_unique_id          6814\n",
       "customer_id                 6873\n",
       "order_purchase_timestamp    6839\n",
       "order_id                    6873\n",
       "payment_value_agreg         4385\n",
       "review_score                   5\n",
       "dtype: int64"
      ]
     },
     "execution_count": 24,
     "metadata": {},
     "output_type": "execute_result"
    }
   ],
   "source": [
    "df_avril = df[('2018-05-01 00:00:00'<df['order_purchase_timestamp']) &  (df['order_purchase_timestamp']< '2018-06-01 00:00:00')]\n",
    "df_avril.nunique()"
   ]
  },
  {
   "cell_type": "code",
   "execution_count": 25,
   "id": "47c34735",
   "metadata": {},
   "outputs": [
    {
     "data": {
      "text/html": [
       "<div>\n",
       "<style scoped>\n",
       "    .dataframe tbody tr th:only-of-type {\n",
       "        vertical-align: middle;\n",
       "    }\n",
       "\n",
       "    .dataframe tbody tr th {\n",
       "        vertical-align: top;\n",
       "    }\n",
       "\n",
       "    .dataframe thead th {\n",
       "        text-align: right;\n",
       "    }\n",
       "</style>\n",
       "<table border=\"1\" class=\"dataframe\">\n",
       "  <thead>\n",
       "    <tr style=\"text-align: right;\">\n",
       "      <th></th>\n",
       "      <th>customer_unique_id</th>\n",
       "      <th>customer_id</th>\n",
       "      <th>order_purchase_timestamp</th>\n",
       "      <th>order_id</th>\n",
       "      <th>payment_value_agreg</th>\n",
       "      <th>review_score</th>\n",
       "    </tr>\n",
       "  </thead>\n",
       "  <tbody>\n",
       "    <tr>\n",
       "      <th>91993</th>\n",
       "      <td>056c58156ca6fd3d045cb72a9c9f89c0</td>\n",
       "      <td>8bbab60533a9749783e4c768cd5a12a7</td>\n",
       "      <td>2018-02-01 00:24:55</td>\n",
       "      <td>f17281018fc8b0ba9a8b08ac18360665</td>\n",
       "      <td>169.41</td>\n",
       "      <td>5.0</td>\n",
       "    </tr>\n",
       "    <tr>\n",
       "      <th>3720</th>\n",
       "      <td>d92087333b9c4afb7f6ec9d1258e2ea3</td>\n",
       "      <td>fbf5039b1d330e60055aa9f3969d3434</td>\n",
       "      <td>2018-02-01 00:33:25</td>\n",
       "      <td>26a353e90b1f35895b269ad0a5cdb114</td>\n",
       "      <td>221.88</td>\n",
       "      <td>5.0</td>\n",
       "    </tr>\n",
       "    <tr>\n",
       "      <th>48581</th>\n",
       "      <td>0818cf2b15a3b4ba451758083d57b9bf</td>\n",
       "      <td>4d8923819294bffca3edc507da304801</td>\n",
       "      <td>2018-02-01 00:35:39</td>\n",
       "      <td>8cd7be194601db331acee102c799242f</td>\n",
       "      <td>181.91</td>\n",
       "      <td>4.0</td>\n",
       "    </tr>\n",
       "    <tr>\n",
       "      <th>32751</th>\n",
       "      <td>9ab7c789eafeac4e56c370df1172c933</td>\n",
       "      <td>18b3ccdb39831edbfefc432e649d2585</td>\n",
       "      <td>2018-02-01 01:04:13</td>\n",
       "      <td>068306f3ae87b774e579eb36d5714ced</td>\n",
       "      <td>170.71</td>\n",
       "      <td>5.0</td>\n",
       "    </tr>\n",
       "    <tr>\n",
       "      <th>15293</th>\n",
       "      <td>553b07cb90e5a17d748dbcf842c00118</td>\n",
       "      <td>08b9cbfbf948ebc2dc43212aa3b5a2a2</td>\n",
       "      <td>2018-02-01 05:41:35</td>\n",
       "      <td>b0478e447df29ef9a7efd1eb63de629c</td>\n",
       "      <td>66.78</td>\n",
       "      <td>5.0</td>\n",
       "    </tr>\n",
       "    <tr>\n",
       "      <th>...</th>\n",
       "      <td>...</td>\n",
       "      <td>...</td>\n",
       "      <td>...</td>\n",
       "      <td>...</td>\n",
       "      <td>...</td>\n",
       "      <td>...</td>\n",
       "    </tr>\n",
       "    <tr>\n",
       "      <th>81573</th>\n",
       "      <td>9a74735754d42a0593bcf6356ab369e2</td>\n",
       "      <td>6e99733532423390e0d537024ac60812</td>\n",
       "      <td>2018-02-28 23:35:06</td>\n",
       "      <td>cecccaa359491439461332bbb0dad3d5</td>\n",
       "      <td>206.84</td>\n",
       "      <td>5.0</td>\n",
       "    </tr>\n",
       "    <tr>\n",
       "      <th>79202</th>\n",
       "      <td>032cfb33364e07ebcafb4b8a92d7eec4</td>\n",
       "      <td>010099752e4ca60e61c8a4a669ea9fe5</td>\n",
       "      <td>2018-02-28 23:42:55</td>\n",
       "      <td>0f02ea56e4c9e7d30adb19a0c3e07b02</td>\n",
       "      <td>86.02</td>\n",
       "      <td>4.0</td>\n",
       "    </tr>\n",
       "    <tr>\n",
       "      <th>65390</th>\n",
       "      <td>7018a5e068b8fd0912fed2d02952df23</td>\n",
       "      <td>b288fbdf739c5aaaa7bb5ebe0ed315e1</td>\n",
       "      <td>2018-02-28 23:48:09</td>\n",
       "      <td>3208081336d844f7752b1e939dd1bbac</td>\n",
       "      <td>92.83</td>\n",
       "      <td>5.0</td>\n",
       "    </tr>\n",
       "    <tr>\n",
       "      <th>55174</th>\n",
       "      <td>b316e256ce45161d3ab81f74834376e8</td>\n",
       "      <td>74d314a6a565ebd0d43988de8d69d49b</td>\n",
       "      <td>2018-02-28 23:57:18</td>\n",
       "      <td>bcda98e5747cea8a343a6af0e5da9f91</td>\n",
       "      <td>117.85</td>\n",
       "      <td>5.0</td>\n",
       "    </tr>\n",
       "    <tr>\n",
       "      <th>43162</th>\n",
       "      <td>82cbe18a587cb972ef38ea261c260740</td>\n",
       "      <td>f4deb293ecb5fa8cb4c4c344eced1eee</td>\n",
       "      <td>2018-02-28 23:57:55</td>\n",
       "      <td>0c3722131f9ebd9c4949a2dd31fb2402</td>\n",
       "      <td>75.07</td>\n",
       "      <td>5.0</td>\n",
       "    </tr>\n",
       "  </tbody>\n",
       "</table>\n",
       "<p>6728 rows × 6 columns</p>\n",
       "</div>"
      ],
      "text/plain": [
       "                     customer_unique_id                       customer_id  \\\n",
       "91993  056c58156ca6fd3d045cb72a9c9f89c0  8bbab60533a9749783e4c768cd5a12a7   \n",
       "3720   d92087333b9c4afb7f6ec9d1258e2ea3  fbf5039b1d330e60055aa9f3969d3434   \n",
       "48581  0818cf2b15a3b4ba451758083d57b9bf  4d8923819294bffca3edc507da304801   \n",
       "32751  9ab7c789eafeac4e56c370df1172c933  18b3ccdb39831edbfefc432e649d2585   \n",
       "15293  553b07cb90e5a17d748dbcf842c00118  08b9cbfbf948ebc2dc43212aa3b5a2a2   \n",
       "...                                 ...                               ...   \n",
       "81573  9a74735754d42a0593bcf6356ab369e2  6e99733532423390e0d537024ac60812   \n",
       "79202  032cfb33364e07ebcafb4b8a92d7eec4  010099752e4ca60e61c8a4a669ea9fe5   \n",
       "65390  7018a5e068b8fd0912fed2d02952df23  b288fbdf739c5aaaa7bb5ebe0ed315e1   \n",
       "55174  b316e256ce45161d3ab81f74834376e8  74d314a6a565ebd0d43988de8d69d49b   \n",
       "43162  82cbe18a587cb972ef38ea261c260740  f4deb293ecb5fa8cb4c4c344eced1eee   \n",
       "\n",
       "      order_purchase_timestamp                          order_id  \\\n",
       "91993      2018-02-01 00:24:55  f17281018fc8b0ba9a8b08ac18360665   \n",
       "3720       2018-02-01 00:33:25  26a353e90b1f35895b269ad0a5cdb114   \n",
       "48581      2018-02-01 00:35:39  8cd7be194601db331acee102c799242f   \n",
       "32751      2018-02-01 01:04:13  068306f3ae87b774e579eb36d5714ced   \n",
       "15293      2018-02-01 05:41:35  b0478e447df29ef9a7efd1eb63de629c   \n",
       "...                        ...                               ...   \n",
       "81573      2018-02-28 23:35:06  cecccaa359491439461332bbb0dad3d5   \n",
       "79202      2018-02-28 23:42:55  0f02ea56e4c9e7d30adb19a0c3e07b02   \n",
       "65390      2018-02-28 23:48:09  3208081336d844f7752b1e939dd1bbac   \n",
       "55174      2018-02-28 23:57:18  bcda98e5747cea8a343a6af0e5da9f91   \n",
       "43162      2018-02-28 23:57:55  0c3722131f9ebd9c4949a2dd31fb2402   \n",
       "\n",
       "       payment_value_agreg  review_score  \n",
       "91993               169.41           5.0  \n",
       "3720                221.88           5.0  \n",
       "48581               181.91           4.0  \n",
       "32751               170.71           5.0  \n",
       "15293                66.78           5.0  \n",
       "...                    ...           ...  \n",
       "81573               206.84           5.0  \n",
       "79202                86.02           4.0  \n",
       "65390                92.83           5.0  \n",
       "55174               117.85           5.0  \n",
       "43162                75.07           5.0  \n",
       "\n",
       "[6728 rows x 6 columns]"
      ]
     },
     "execution_count": 25,
     "metadata": {},
     "output_type": "execute_result"
    }
   ],
   "source": [
    "df[('2018-02-01 00:00:00'<df['order_purchase_timestamp']) &  (df['order_purchase_timestamp']< '2018-03-01 00:00:00')]"
   ]
  },
  {
   "cell_type": "code",
   "execution_count": 26,
   "id": "ab4d9345",
   "metadata": {},
   "outputs": [
    {
     "data": {
      "text/plain": [
       "customer_unique_id          6569\n",
       "customer_id                 6728\n",
       "order_purchase_timestamp    6679\n",
       "order_id                    6728\n",
       "payment_value_agreg         3804\n",
       "review_score                   5\n",
       "dtype: int64"
      ]
     },
     "execution_count": 26,
     "metadata": {},
     "output_type": "execute_result"
    }
   ],
   "source": [
    "df_fevrier = df[('2018-02-01 00:00:00'<df['order_purchase_timestamp']) &  (df['order_purchase_timestamp']< '2018-03-01 00:00:00')]\n",
    "df_fevrier.nunique()"
   ]
  },
  {
   "cell_type": "code",
   "execution_count": 27,
   "id": "bd3cce1c",
   "metadata": {},
   "outputs": [
    {
     "data": {
      "text/plain": [
       "customer_unique_id          42204\n",
       "customer_id                 43085\n",
       "order_purchase_timestamp    42830\n",
       "order_id                    43085\n",
       "payment_value_agreg         17755\n",
       "review_score                    5\n",
       "dtype: int64"
      ]
     },
     "execution_count": 27,
     "metadata": {},
     "output_type": "execute_result"
    }
   ],
   "source": [
    "df_fevrier_octobre = df[('2018-02-17 00:00:00'<df['order_purchase_timestamp']) &  (df['order_purchase_timestamp']< '2018-10-17 00:00:00')]\n",
    "df_fevrier_octobre.nunique()"
   ]
  },
  {
   "cell_type": "code",
   "execution_count": 28,
   "id": "0c4b73bc",
   "metadata": {},
   "outputs": [
    {
     "data": {
      "text/plain": [
       "customer_unique_id          35546\n",
       "customer_id                 36177\n",
       "order_purchase_timestamp    35975\n",
       "order_id                    36177\n",
       "payment_value_agreg         15623\n",
       "review_score                    5\n",
       "dtype: int64"
      ]
     },
     "execution_count": 28,
     "metadata": {},
     "output_type": "execute_result"
    }
   ],
   "source": [
    "df_mars_octobre = df[('2018-03-17 00:00:00'<df['order_purchase_timestamp']) &  (df['order_purchase_timestamp']< '2018-10-17 00:00:00')]\n",
    "df_mars_octobre.nunique()"
   ]
  },
  {
   "cell_type": "code",
   "execution_count": 29,
   "id": "d2088a92",
   "metadata": {},
   "outputs": [
    {
     "data": {
      "text/plain": [
       "customer_unique_id          28706\n",
       "customer_id                 29171\n",
       "order_purchase_timestamp    29023\n",
       "order_id                    29171\n",
       "payment_value_agreg         13665\n",
       "review_score                    5\n",
       "dtype: int64"
      ]
     },
     "execution_count": 29,
     "metadata": {},
     "output_type": "execute_result"
    }
   ],
   "source": [
    "df_avril_octobre = df[('2018-04-17 00:00:00'<df['order_purchase_timestamp']) &  (df['order_purchase_timestamp']< '2018-10-17 00:00:00')]\n",
    "df_avril_octobre.nunique()"
   ]
  },
  {
   "cell_type": "code",
   "execution_count": 30,
   "id": "74d433be",
   "metadata": {},
   "outputs": [
    {
     "data": {
      "text/plain": [
       "customer_unique_id          20965\n",
       "customer_id                 21273\n",
       "order_purchase_timestamp    21162\n",
       "order_id                    21273\n",
       "payment_value_agreg         10835\n",
       "review_score                    5\n",
       "dtype: int64"
      ]
     },
     "execution_count": 30,
     "metadata": {},
     "output_type": "execute_result"
    }
   ],
   "source": [
    "df_mai_octobre = df[('2018-05-17 00:00:00'<df['order_purchase_timestamp']) &  (df['order_purchase_timestamp']< '2018-10-17 00:00:00')]\n",
    "df_mai_octobre.nunique()"
   ]
  },
  {
   "cell_type": "markdown",
   "id": "b15570d5",
   "metadata": {},
   "source": [
    "## Il y a le même nombre de commande chaque mois : environ 7000 commandes"
   ]
  }
 ],
 "metadata": {
  "kernelspec": {
   "display_name": "Python 3 (ipykernel)",
   "language": "python",
   "name": "python3"
  },
  "language_info": {
   "codemirror_mode": {
    "name": "ipython",
    "version": 3
   },
   "file_extension": ".py",
   "mimetype": "text/x-python",
   "name": "python",
   "nbconvert_exporter": "python",
   "pygments_lexer": "ipython3",
   "version": "3.9.13"
  }
 },
 "nbformat": 4,
 "nbformat_minor": 5
}
